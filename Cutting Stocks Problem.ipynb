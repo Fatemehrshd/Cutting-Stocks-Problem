{
 "cells": [
  {
   "cell_type": "markdown",
   "metadata": {},
   "source": [
    "# AI HW2: Cutting Stocks Problem\n"
   ]
  },
  {
   "cell_type": "code",
   "execution_count": 1,
   "metadata": {},
   "outputs": [],
   "source": [
    "import math\n",
    "import random\n",
    "import numpy as np"
   ]
  },
  {
   "cell_type": "code",
   "execution_count": 2,
   "metadata": {},
   "outputs": [],
   "source": [
    "def generate_permutation(array):\n",
    "    '''This function generates a permutation of the given array'''\n",
    "    permutation = np.copy(array)\n",
    "    return np.random.permutation(permutation)"
   ]
  },
  {
   "cell_type": "code",
   "execution_count": 3,
   "metadata": {},
   "outputs": [],
   "source": [
    "def cost_function(array, length):\n",
    "    '''this function calculates number of rolls that \n",
    "    are used to fulfill the input requests'''\n",
    "    remained = length\n",
    "    total_cost = 1\n",
    "    for element in array:\n",
    "        if element <= remained:\n",
    "            remained -= element\n",
    "        else:\n",
    "            remained = length - element\n",
    "            total_cost += 1\n",
    "    return total_cost"
   ]
  },
  {
   "cell_type": "code",
   "execution_count": 4,
   "metadata": {},
   "outputs": [],
   "source": [
    "def find_neighbor_HC(requests):\n",
    "    '''This function finds neighbors for the current \n",
    "    permutation which is used in hill climbing algorithm'''\n",
    "    neighbor = np.copy(requests)\n",
    "    for i in range(2):\n",
    "        ind1, ind2 = np.random.randint(len(requests) - 1), np.random.randint(len(requests) - 1)\n",
    "        neighbor[ind1], neighbor[ind2] = neighbor[ind2], neighbor[ind1]\n",
    "    return neighbor   \n"
   ]
  },
  {
   "cell_type": "markdown",
   "metadata": {},
   "source": [
    "### Hill Climbing Algorithm"
   ]
  },
  {
   "cell_type": "code",
   "execution_count": 5,
   "metadata": {},
   "outputs": [],
   "source": [
    "def cutting_stock_Hill_Climbing_solver(length, requests, max_counter_limit):\n",
    "    '''This function tries to solve the cutting stock problem with HC'''\n",
    "    current_request = generate_permutation(requests)\n",
    "\n",
    "    current_cost    = cost_function(current_request, length)\n",
    "    min_cost = current_cost\n",
    "    counter = 0\n",
    "\n",
    "    while True:\n",
    "        neighbor      = find_neighbor_HC(current_request)\n",
    "        neighbor_cost = cost_function(neighbor, length)\n",
    "\n",
    "        if neighbor_cost <= current_cost:\n",
    "            current_request = neighbor\n",
    "            current_cost    = neighbor_cost\n",
    "            if neighbor_cost == current_cost:\n",
    "                counter += 1\n",
    "            else:\n",
    "                counter = 0\n",
    "        else:\n",
    "            counter += 1\n",
    "        \n",
    "        if current_cost < min_cost:\n",
    "            min_cost = current_cost\n",
    "        if counter > max_counter_limit:\n",
    "            return min_cost\n",
    "    # return min_cost"
   ]
  },
  {
   "cell_type": "code",
   "execution_count": 6,
   "metadata": {},
   "outputs": [],
   "source": [
    "def driver_HC(file_path, limit):\n",
    "    with open(file_path, 'r') as test_case:\n",
    "        file_lines  = test_case.readlines()\n",
    "        roll_length = int(file_lines[0].split()[2])\n",
    "        requests    = np.array(list(map(int, file_lines[3].split(', ' ))))\n",
    "        res = cutting_stock_Hill_Climbing_solver(roll_length, requests, limit)\n",
    "        return res"
   ]
  },
  {
   "cell_type": "code",
   "execution_count": 10,
   "metadata": {},
   "outputs": [
    {
     "name": "stdout",
     "output_type": "stream",
     "text": [
      "test case1: \n",
      "limit: 50000 rolls:  53\n",
      "limit: 1000 rolls:  54\n",
      "limit: 5000 rolls:  54\n",
      "limit: 20000 rolls:  52\n",
      "test case2: \n",
      "limit: 50000 rolls:  80\n",
      "limit: 1000 rolls:  83\n",
      "limit: 5000 rolls:  80\n",
      "limit: 20000 rolls:  79\n",
      "test case3: \n",
      "limit: 50000 rolls:  99\n",
      "limit: 1000 rolls:  103\n",
      "limit: 5000 rolls:  99\n",
      "limit: 20000 rolls:  97\n",
      "test case4: \n",
      "limit: 50000 rolls:  224\n",
      "limit: 1000 rolls:  228\n",
      "limit: 5000 rolls:  224\n",
      "limit: 20000 rolls:  221\n"
     ]
    }
   ],
   "source": [
    "for i in range(4):\n",
    "    file_p = 'input%i.stock' % (i+1)\n",
    "    print(\"test case%i: \" %(i+1))\n",
    "    print(\"limit: %i\" %(50000), \"rolls: \", driver_HC(file_p,5000))\n",
    "    print(\"limit: %i\" %(1000), \"rolls: \", driver_HC(file_p,1000))\n",
    "    print(\"limit: %i\" %(5000), \"rolls: \", driver_HC(file_p,5000))\n",
    "    print(\"limit: %i\" %(20000), \"rolls: \", driver_HC(file_p,20000))\n"
   ]
  },
  {
   "cell_type": "markdown",
   "metadata": {},
   "source": [
    "### Simulated Anealing "
   ]
  },
  {
   "cell_type": "code",
   "execution_count": 11,
   "metadata": {},
   "outputs": [],
   "source": [
    "def find_neighbor_SA(requests):\n",
    "    '''this function finds neighbors for the current permutation\n",
    "    in SA algorithm'''\n",
    "    number_of_requests = len(requests)\n",
    "    neighbor = np.copy(requests)\n",
    "    ind1, ind2 = np.random.randint(number_of_requests - 1), np.random.randint(number_of_requests - 1)\n",
    "    neighbor[ind1], neighbor[ind2] = neighbor[ind2], neighbor[ind1]\n",
    "    return neighbor "
   ]
  },
  {
   "cell_type": "code",
   "execution_count": 12,
   "metadata": {},
   "outputs": [],
   "source": [
    "def acceptance_probability(current_cost, neighbor_cost, temperature):\n",
    "    '''this function calculates the accpetance probability which\n",
    "    is used in the SA algorithm'''\n",
    "    return math.exp((current_cost-neighbor_cost)/temperature)"
   ]
  },
  {
   "cell_type": "code",
   "execution_count": 13,
   "metadata": {},
   "outputs": [],
   "source": [
    "def cutting_stock_SA_solver(requests, length, min_temperature, max_temperature, alpha, number_of_iterations):\n",
    "    '''This function tries to solve the cutting stock problem\n",
    "    with SA algorithm'''\n",
    "    current_permutation = requests.copy()\n",
    "    current_cost = cost_function(current_permutation, length)\n",
    "    optimal_cost = current_cost\n",
    "    optimal_permutation = np.copy(current_permutation)\n",
    "    temperature = max_temperature\n",
    "    while temperature > min_temperature:\n",
    "        for iteration in range(number_of_iterations):\n",
    "            neighbor = find_neighbor_SA(current_permutation)\n",
    "            neighbor_cost = cost_function(neighbor, length)\n",
    "            probability = acceptance_probability(current_cost, neighbor_cost, temperature)\n",
    "            if neighbor_cost < current_cost or probability > np.random.rand():\n",
    "                current_permutation = neighbor\n",
    "                current_cost = neighbor_cost\n",
    "            if current_cost < optimal_cost:\n",
    "                optimal_cost = current_cost\n",
    "                optimal_permutation = current_permutation\n",
    "        temperature *= alpha\n",
    "\n",
    "    return optimal_cost"
   ]
  },
  {
   "cell_type": "code",
   "execution_count": 14,
   "metadata": {},
   "outputs": [],
   "source": [
    "def driver_SA(file_path, min_temp, max_temp, alpha, iterations):\n",
    "    with open(file_path, 'r') as test_case:\n",
    "            file_lines  = test_case.readlines()\n",
    "            roll_length = int(file_lines[0].split()[2])\n",
    "            requests    = np.array(list(map(int, file_lines[3].split(', ' ))))\n",
    "            res = cutting_stock_SA_solver(requests, roll_length, min_temp, max_temp, alpha, iterations)\n",
    "            return res"
   ]
  },
  {
   "cell_type": "code",
   "execution_count": 15,
   "metadata": {},
   "outputs": [
    {
     "name": "stdout",
     "output_type": "stream",
     "text": [
      "test case 1: \n",
      "min temp: 0.010000, max temp: 1.000000, alpha: 0.990000, iterations: 1000 rolls:  51\n",
      "min temp: 0.010000, max temp: 1.000000, alpha: 0.990000, iterations: 100 rolls:  52\n",
      "min temp: 0.010000, max temp: 1.000000, alpha: 0.500000, iterations: 1000 rolls:  52\n",
      "min temp: 0.010000, max temp: 10.000000, alpha: 0.990000, iterations: 1000 rolls:  51\n",
      "min temp: 0.010000, max temp: 1.000000, alpha: 0.990000, iterations: 2000 rolls:  51\n",
      "test case 2: \n",
      "min temp: 0.010000, max temp: 1.000000, alpha: 0.990000, iterations: 1000 rolls:  78\n",
      "min temp: 0.010000, max temp: 1.000000, alpha: 0.990000, iterations: 100 rolls:  80\n",
      "min temp: 0.010000, max temp: 1.000000, alpha: 0.500000, iterations: 1000 rolls:  81\n",
      "min temp: 0.010000, max temp: 10.000000, alpha: 0.990000, iterations: 1000 rolls:  78\n",
      "min temp: 0.010000, max temp: 1.000000, alpha: 0.990000, iterations: 2000 rolls:  78\n",
      "test case 3: \n",
      "min temp: 0.010000, max temp: 1.000000, alpha: 0.990000, iterations: 1000 rolls:  96\n",
      "min temp: 0.010000, max temp: 1.000000, alpha: 0.990000, iterations: 100 rolls:  98\n",
      "min temp: 0.010000, max temp: 1.000000, alpha: 0.500000, iterations: 1000 rolls:  100\n",
      "min temp: 0.010000, max temp: 10.000000, alpha: 0.990000, iterations: 1000 rolls:  96\n",
      "min temp: 0.010000, max temp: 1.000000, alpha: 0.990000, iterations: 2000 rolls:  97\n",
      "test case 4: \n",
      "min temp: 0.010000, max temp: 1.000000, alpha: 0.990000, iterations: 1000 rolls:  217\n",
      "min temp: 0.010000, max temp: 1.000000, alpha: 0.990000, iterations: 100 rolls:  219\n",
      "min temp: 0.010000, max temp: 1.000000, alpha: 0.500000, iterations: 1000 rolls:  225\n",
      "min temp: 0.010000, max temp: 10.000000, alpha: 0.990000, iterations: 1000 rolls:  217\n",
      "min temp: 0.010000, max temp: 1.000000, alpha: 0.990000, iterations: 2000 rolls:  216\n"
     ]
    }
   ],
   "source": [
    "for i in range(4):\n",
    "    file_p = 'input%i.stock' % (i+1)\n",
    "    print(\"test case %i: \" % (i+1))\n",
    "    print(\"min temp: %f, max temp: %f, alpha: %f, iterations: %i\" %(0.01, 1, 0.99, 1000), \"rolls: \",  driver_SA(file_p, 0.01, 1, 0.99, 1000))\n",
    "    print(\"min temp: %f, max temp: %f, alpha: %f, iterations: %i\" %(0.01, 1, 0.99, 100),  \"rolls: \", driver_SA(file_p, 0.01, 1, 0.99, 100))\n",
    "    print(\"min temp: %f, max temp: %f, alpha: %f, iterations: %i\" %(0.01, 1, 0.5, 1000),  \"rolls: \", driver_SA(file_p, 0.01, 1, 0.5, 1000))\n",
    "    print(\"min temp: %f, max temp: %f, alpha: %f, iterations: %i\" %(0.01, 10, 0.99, 1000),  \"rolls: \", driver_SA(file_p, 0.01, 10, 0.99, 1000))\n",
    "    print(\"min temp: %f, max temp: %f, alpha: %f, iterations: %i\" %(0.01, 1, 0.99, 2000),  \"rolls: \", driver_SA(file_p, 0.01, 1, 0.99, 2000))\n"
   ]
  },
  {
   "cell_type": "markdown",
   "metadata": {},
   "source": [
    "## Genetic"
   ]
  },
  {
   "cell_type": "code",
   "execution_count": 16,
   "metadata": {},
   "outputs": [],
   "source": [
    "population_size = 100"
   ]
  },
  {
   "cell_type": "code",
   "execution_count": 17,
   "metadata": {},
   "outputs": [],
   "source": [
    "def generate_population(chromosome):\n",
    "    '''this function creates a generation with generation size length\n",
    "    using the given chromosome'''\n",
    "    chromosome_copy = np.copy(chromosome)\n",
    "    population = np.array([])\n",
    "    for _ in range(population_size):\n",
    "        indivisual = np.random.permutation(chromosome_copy)\n",
    "        population = np.append(population, indivisual)\n",
    "        population = population.reshape(-1, len(indivisual))\n",
    "    return population"
   ]
  },
  {
   "cell_type": "code",
   "execution_count": 18,
   "metadata": {},
   "outputs": [],
   "source": [
    "def fitness(chromosome, length):\n",
    "    '''this function calculates the fitness of the given permutation\n",
    "    which is the number of rolls that are use. so& th less the fitness, the better the result'''\n",
    "    remained = length\n",
    "    fitness_score = 1\n",
    "    for gene in chromosome:\n",
    "        if gene <= remained:\n",
    "            remained -= gene\n",
    "        else:\n",
    "            remained = length - gene\n",
    "            fitness_score += 1\n",
    "    \n",
    "    return fitness_score"
   ]
  },
  {
   "cell_type": "code",
   "execution_count": 20,
   "metadata": {},
   "outputs": [],
   "source": [
    "def evaluate_population(population, length):\n",
    "    '''this function calculates the fitness for evey indivisual in the\n",
    "    population'''\n",
    "    population_fitness = np.array([])\n",
    "    for indivisual in population:\n",
    "        population_fitness = np.append(population_fitness, fitness(indivisual, length))\n",
    "    return population_fitness\n",
    "    "
   ]
  },
  {
   "cell_type": "code",
   "execution_count": 21,
   "metadata": {},
   "outputs": [],
   "source": [
    "def tournament_selection(population, population_fitness, tournament_size=3):\n",
    "    '''this function tries to find the best random parents for the new generation'''\n",
    "    size = population[0].size\n",
    "    parents = []\n",
    "    parents_indices = []\n",
    "    for i in range(population_size):\n",
    "        candidates = random.sample(range(0, population_size), tournament_size)\n",
    "        best_fit     = -1\n",
    "        parent_index = -1\n",
    "        for c in candidates:\n",
    "            if population_fitness[c] < best_fit:\n",
    "                best_fit = population_fitness[c]\n",
    "                parent_index = c\n",
    "        parents.append(population[parent_index])\n",
    "        parents_indices.append(parent_index)\n",
    "    parents = np.array(parents)\n",
    "    parents_indices = np.array(parents_indices)\n",
    "    return parents, parents_indices"
   ]
  },
  {
   "cell_type": "code",
   "execution_count": 22,
   "metadata": {},
   "outputs": [],
   "source": [
    "def crossover(population, parents, dictionary, requests, crossover_rate):\n",
    "    '''this function tries to do the crossover with probability crossover rate'''\n",
    "    children = []\n",
    "    cnt = 0\n",
    "    parents_copy = np.copy(parents)\n",
    "    parents_copy = list(parents_copy)\n",
    "    size = population[0].size\n",
    "\n",
    "    while cnt < population_size:\n",
    "        parent1, parent2 = parents_copy[cnt], parents_copy[cnt+1]\n",
    "        child1, child2 = [], []\n",
    "\n",
    "        cross_point = np.random.randint(1, size-2)\n",
    "\n",
    "        for i in range(cross_point+1):\n",
    "            child1.append(parent1[i])\n",
    "            child2.append(parent2[i])\n",
    "        \n",
    "        child1_dict = {}\n",
    "        child2_dict = {}\n",
    "\n",
    "        for key in dictionary:\n",
    "            child1_dict[key] = 0\n",
    "            child2_dict[key] = 0\n",
    "\n",
    "        for gene in child1:\n",
    "            child1_dict[gene] += 1\n",
    "        for gene in child2:\n",
    "            child2_dict[gene] += 1\n",
    "\n",
    "        choice = np.random.rand()\n",
    "\n",
    "        if choice < crossover_rate:\n",
    "                \n",
    "            ind1, ind2 = cross_point+1, cross_point+1\n",
    "            while len(child1) < len(parent1):\n",
    "                if dictionary[parent2[ind1]] - child1_dict[parent2[ind1]] > 0:\n",
    "                    child1_dict[parent2[ind1]] += 1\n",
    "                    child1.append(parent2[ind1])\n",
    "                ind1 = (1+ind1) % size\n",
    "\n",
    "            while len(child2) < len(parent1):\n",
    "                if dictionary[parent1[ind2]] - child2_dict[parent1[ind2]] > 0:\n",
    "                    child2_dict[parent1[ind2]] += 1\n",
    "                    child2.append(parent1[ind2])\n",
    "                ind2 = (1+ind2) % size\n",
    "        else:\n",
    "            child1 = parent1[:]\n",
    "            child2 = parent2[:]\n",
    "        \n",
    "        children.append(child1)\n",
    "        children.append(child2)\n",
    "        cnt += 2\n",
    "    return np.array(children)"
   ]
  },
  {
   "cell_type": "code",
   "execution_count": 23,
   "metadata": {},
   "outputs": [],
   "source": [
    "def generate_new_generation(population, parents_fitness, children, children_fitness, combine_rate):\n",
    "    '''this functiom tries to make the new generation based on the previous\n",
    "    population and the new children that are created'''\n",
    "    new_generation = []\n",
    "    population_copy = np.copy(population)\n",
    "    population_copy = list(population_copy)\n",
    "    for indivisual in population_copy:\n",
    "        new_generation.append(indivisual)\n",
    "    \n",
    "\n",
    "    for i in range(int(combine_rate * population_size)):\n",
    "\n",
    "        max_child = -1\n",
    "        ind1 = -1\n",
    "        for j in range(population_size):\n",
    "            if children_fitness[i] < max_child:\n",
    "                max_child = children_fitness[i]\n",
    "                ind1 = i\n",
    "        children_fitness[ind1] = -1\n",
    "\n",
    "        min_parent = 100\n",
    "        ind2 = -1\n",
    "        for j in range(population_size):\n",
    "            if parents_fitness[i] > min_parent:\n",
    "                min_parent = parents_fitness[i]\n",
    "                ind2 = i\n",
    "        parents_fitness[ind2] = 100\n",
    "\n",
    "        new_generation[ind2] = children[ind1]\n",
    "    \n",
    "    return new_generation"
   ]
  },
  {
   "cell_type": "code",
   "execution_count": 24,
   "metadata": {},
   "outputs": [],
   "source": [
    "def mutation(children, mutation_rate):\n",
    "    '''this function tries to do the mutation in the children'''\n",
    "    for child in children:\n",
    "        rate = np.random.rand()\n",
    "        if rate < mutation_rate:\n",
    "            ind1, ind2 = np.random.randint(len(child)), np.random.randint(len(child))\n",
    "            child[ind1], child[ind2] = child[ind2], child[ind1]\n",
    "    return children"
   ]
  },
  {
   "cell_type": "code",
   "execution_count": 25,
   "metadata": {},
   "outputs": [],
   "source": [
    "def cutting_stock_GA_solver(length, chromosome, crossover_rate, mutation_rate, combine_rate, generation_length):\n",
    "    '''this function tries to solve the cutting stocks problem with genetic algorithm'''\n",
    "    population = generate_population(chromosome)\n",
    "    population_fitness = evaluate_population(population, length)\n",
    "    generation = 0\n",
    "    best_fit = np.inf\n",
    "    while generation < generation_length:\n",
    "        parents, parents_indices_in_population = tournament_selection(population, population_fitness)\n",
    "        parents_indices_in_population = np.array(parents_indices_in_population, dtype=int)\n",
    "\n",
    "        parents_fitness = np.array([])\n",
    "        for i in parents_indices_in_population:\n",
    "            parents_fitness = np.append(parents_fitness, population_fitness[i])\n",
    "        \n",
    "        dictionary = {}\n",
    "        for key in chromosome:\n",
    "            if key not in dictionary:\n",
    "                dictionary[key] = 1\n",
    "            else:\n",
    "                dictionary[key] += 1\n",
    "\n",
    "        children = crossover(population, parents, dictionary, chromosome, crossover_rate)\n",
    "        children = mutation(children, mutation_rate)\n",
    "        children_fitness = evaluate_population(children, length)\n",
    "        new_population = generate_new_generation(population, parents_fitness, children, children_fitness, combine_rate)\n",
    "        new_population_fitness = evaluate_population(new_population, length)\n",
    "        if min(new_population_fitness) < best_fit:\n",
    "            best_fit = int(min(new_population_fitness))\n",
    "        population = np.array(new_population)\n",
    "\n",
    "        generation += 1\n",
    "    return best_fit"
   ]
  },
  {
   "cell_type": "code",
   "execution_count": 26,
   "metadata": {},
   "outputs": [],
   "source": [
    "def driver_GA(file_path, crossover_rate, mutation_rate, combine_rate, generation_length):\n",
    "    with open(file_path, 'r') as test_case:\n",
    "        file_lines  = test_case.readlines()\n",
    "        roll_length = int(file_lines[0].split()[2])\n",
    "        requests    = np.array(list(map(int, file_lines[3].split(', ' ))), dtype=int)\n",
    "        res = cutting_stock_GA_solver(roll_length, requests, crossover_rate, mutation_rate, combine_rate, generation_length)\n",
    "        return res"
   ]
  },
  {
   "cell_type": "code",
   "execution_count": 27,
   "metadata": {},
   "outputs": [
    {
     "name": "stdout",
     "output_type": "stream",
     "text": [
      "test case1: \n",
      "crossover rate: 0.500000, mutation rate: 0.500000, combination rate: 0.300000, #generations: 2000 rolls:  58\n",
      "crossover rate: 0.500000, mutation rate: 0.800000, combination rate: 0.300000, #generations: 2000 rolls:  57\n",
      "crossover rate: 0.500000, mutation rate: 0.500000, combination rate: 0.800000, #generations: 2000 rolls:  58\n",
      "crossover rate: 0.800000, mutation rate: 0.500000, combination rate: 0.300000, #generations: 2000 rolls:  56\n",
      "crossover rate: 0.800000, mutation rate: 0.500000, combination rate: 0.400000, #generations: 2000 rolls:  54\n",
      "crossover rate: 0.800000, mutation rate: 0.500000, combination rate: 0.400000, #generations: 5000 rolls:  52\n",
      "test case2: \n",
      "crossover rate: 0.500000, mutation rate: 0.500000, combination rate: 0.300000, #generations: 2000 rolls:  85\n",
      "crossover rate: 0.500000, mutation rate: 0.800000, combination rate: 0.300000, #generations: 2000 rolls:  86\n",
      "crossover rate: 0.500000, mutation rate: 0.500000, combination rate: 0.800000, #generations: 2000 rolls:  83\n",
      "crossover rate: 0.800000, mutation rate: 0.500000, combination rate: 0.300000, #generations: 2000 rolls:  81\n",
      "crossover rate: 0.800000, mutation rate: 0.500000, combination rate: 0.400000, #generations: 2000 rolls:  81\n",
      "crossover rate: 0.800000, mutation rate: 0.500000, combination rate: 0.400000, #generations: 5000 rolls:  80\n",
      "test case3: \n",
      "crossover rate: 0.500000, mutation rate: 0.500000, combination rate: 0.300000, #generations: 2000 rolls:  110\n",
      "crossover rate: 0.500000, mutation rate: 0.800000, combination rate: 0.300000, #generations: 2000 rolls:  110\n",
      "crossover rate: 0.500000, mutation rate: 0.500000, combination rate: 0.800000, #generations: 2000 rolls:  112\n",
      "crossover rate: 0.800000, mutation rate: 0.500000, combination rate: 0.300000, #generations: 2000 rolls:  110\n",
      "crossover rate: 0.800000, mutation rate: 0.500000, combination rate: 0.400000, #generations: 2000 rolls:  110\n",
      "crossover rate: 0.800000, mutation rate: 0.500000, combination rate: 0.400000, #generations: 5000 rolls:  109\n",
      "test case4: \n",
      "crossover rate: 0.500000, mutation rate: 0.500000, combination rate: 0.300000, #generations: 2000 rolls:  248\n",
      "crossover rate: 0.500000, mutation rate: 0.800000, combination rate: 0.300000, #generations: 2000 rolls:  244\n",
      "crossover rate: 0.500000, mutation rate: 0.500000, combination rate: 0.800000, #generations: 2000 rolls:  240\n",
      "crossover rate: 0.800000, mutation rate: 0.500000, combination rate: 0.300000, #generations: 2000 rolls:  242\n",
      "crossover rate: 0.800000, mutation rate: 0.500000, combination rate: 0.400000, #generations: 2000 rolls:  239\n",
      "crossover rate: 0.800000, mutation rate: 0.500000, combination rate: 0.400000, #generations: 5000 rolls:  239\n"
     ]
    }
   ],
   "source": [
    "for i in range(4):\n",
    "    file_p = 'input%i.stock' % (i+1)\n",
    "    print(\"test case%i: \" % (i+1))\n",
    "    print(\"crossover rate: %f, mutation rate: %f, combination rate: %f\" %(0.5, 0.5, 0.3), driver_GA(file_p, 0.5, 0.5, .3, 2000))\n",
    "    print(\"crossover rate: %f, mutation rate: %f, combination rate: %f\" %(0.5, 0.8, 0.3), driver_GA(file_p, 0.5, 0.5, .3, 2000))\n",
    "    print(\"crossover rate: %f, mutation rate: %f, combination rate: %f\" %(0.5, 0.5, 0.8), driver_GA(file_p, 0.5, 0.5, .3, 2000))\n",
    "    print(\"crossover rate: %f, mutation rate: %f, combination rate: %f\" %(0.8, 0.5, 0.3), driver_GA(file_p, 0.5, 0.5, .3, 2000))\n",
    "    print(\"crossover rate: %f, mutation rate: %f, combination rate: %f\" %(0.8, 0.5, 0.4), driver_GA(file_p, 0.5, 0.5, .3, 2000))\n",
    "    print(\"crossover rate: %f, mutation rate: %f, combination rate: %f\" %(0.8, 0.5, 0.4), driver_GA(file_p, 0.5, 0.5, .3, 5000))"
   ]
  }
 ],
 "metadata": {
  "kernelspec": {
   "display_name": "Python 3",
   "language": "python",
   "name": "python3"
  },
  "language_info": {
   "codemirror_mode": {
    "name": "ipython",
    "version": 3
   },
   "file_extension": ".py",
   "mimetype": "text/x-python",
   "name": "python",
   "nbconvert_exporter": "python",
   "pygments_lexer": "ipython3",
   "version": "3.11.0"
  }
 },
 "nbformat": 4,
 "nbformat_minor": 2
}
